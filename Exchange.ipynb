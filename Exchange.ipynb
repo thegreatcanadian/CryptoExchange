{
 "cells": [
  {
   "cell_type": "code",
   "execution_count": 5,
   "metadata": {},
   "outputs": [
    {
     "name": "stdout",
     "output_type": "stream",
     "text": [
      "Current exchange rate from USD to EUR: 0.9286775631500743\n"
     ]
    }
   ],
   "source": [
    "from forex_python.converter import CurrencyRates, RatesNotAvailableError\n",
    "\n",
    "# Create an instance of CurrencyRates\n",
    "c = CurrencyRates()\n",
    "\n",
    "# Get the exchange rate from USD to EUR\n",
    "exchange_rate = c.get_rate('USD', 'EUR')\n",
    "\n",
    "print(f\"Current exchange rate from USD to EUR: {exchange_rate}\")\n"
   ]
  },
  {
   "cell_type": "code",
   "execution_count": 6,
   "metadata": {},
   "outputs": [
    {
     "name": "stdout",
     "output_type": "stream",
     "text": [
      "Exchange rate for the specified currency pair is not available.\n",
      "Exchange rate for the specified currency pair is not available.\n",
      "Exchange rate for the specified currency pair is not available.\n",
      "Current exchange rate from USD to GBP: 0.794994427934621\n",
      "Current exchange rate from USD to EUR: 0.9286775631500743\n"
     ]
    }
   ],
   "source": [
    "while True:\n",
    "    Currency = input(\"User Currency:\")\n",
    "    try:\n",
    "        exchange_rate = c.get_rate('USD', Currency)\n",
    "        print(f\"Current exchange rate from USD to {Currency}: {exchange_rate}\")\n",
    "    except RatesNotAvailableError:\n",
    "        print(\"Exchange rate for the specified currency pair is not available.\")\n",
    "    cte = input(\"Do you want to continue?\")\n",
    "    if cte != 'Y':\n",
    "        break\n"
   ]
  },
  {
   "cell_type": "code",
   "execution_count": null,
   "metadata": {},
   "outputs": [],
   "source": []
  }
 ],
 "metadata": {
  "kernelspec": {
   "display_name": "myenv",
   "language": "python",
   "name": "python3"
  },
  "language_info": {
   "codemirror_mode": {
    "name": "ipython",
    "version": 3
   },
   "file_extension": ".py",
   "mimetype": "text/x-python",
   "name": "python",
   "nbconvert_exporter": "python",
   "pygments_lexer": "ipython3",
   "version": "3.11.5"
  }
 },
 "nbformat": 4,
 "nbformat_minor": 2
}
